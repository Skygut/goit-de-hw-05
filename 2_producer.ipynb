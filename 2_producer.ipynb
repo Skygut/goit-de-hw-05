{
 "cells": [
  {
   "cell_type": "code",
   "execution_count": 22,
   "metadata": {},
   "outputs": [
    {
     "name": "stdout",
     "output_type": "stream",
     "text": [
      "Повідомлення 0 надіслано в тему 'building_sensors_volodymyr17' успішно з даними: {'sensor_id': 4, 'timestamp': '2024-11-23 15:43:47', 'temperature': 44, 'humidity': 30}\n",
      "Повідомлення 1 надіслано в тему 'building_sensors_volodymyr17' успішно з даними: {'sensor_id': 4, 'timestamp': '2024-11-23 15:43:50', 'temperature': 27, 'humidity': 69}\n",
      "Повідомлення 2 надіслано в тему 'building_sensors_volodymyr17' успішно з даними: {'sensor_id': 4, 'timestamp': '2024-11-23 15:43:52', 'temperature': 27, 'humidity': 76}\n",
      "Повідомлення 3 надіслано в тему 'building_sensors_volodymyr17' успішно з даними: {'sensor_id': 4, 'timestamp': '2024-11-23 15:43:54', 'temperature': 35, 'humidity': 61}\n",
      "Повідомлення 4 надіслано в тему 'building_sensors_volodymyr17' успішно з даними: {'sensor_id': 4, 'timestamp': '2024-11-23 15:43:56', 'temperature': 31, 'humidity': 39}\n",
      "Повідомлення 5 надіслано в тему 'building_sensors_volodymyr17' успішно з даними: {'sensor_id': 4, 'timestamp': '2024-11-23 15:43:58', 'temperature': 29, 'humidity': 82}\n",
      "Повідомлення 6 надіслано в тему 'building_sensors_volodymyr17' успішно з даними: {'sensor_id': 4, 'timestamp': '2024-11-23 15:44:00', 'temperature': 38, 'humidity': 70}\n",
      "Повідомлення 7 надіслано в тему 'building_sensors_volodymyr17' успішно з даними: {'sensor_id': 4, 'timestamp': '2024-11-23 15:44:02', 'temperature': 32, 'humidity': 85}\n",
      "Повідомлення 8 надіслано в тему 'building_sensors_volodymyr17' успішно з даними: {'sensor_id': 4, 'timestamp': '2024-11-23 15:44:04', 'temperature': 25, 'humidity': 23}\n",
      "Повідомлення 9 надіслано в тему 'building_sensors_volodymyr17' успішно з даними: {'sensor_id': 4, 'timestamp': '2024-11-23 15:44:06', 'temperature': 29, 'humidity': 85}\n",
      "Повідомлення 10 надіслано в тему 'building_sensors_volodymyr17' успішно з даними: {'sensor_id': 4, 'timestamp': '2024-11-23 15:44:08', 'temperature': 36, 'humidity': 19}\n",
      "Повідомлення 11 надіслано в тему 'building_sensors_volodymyr17' успішно з даними: {'sensor_id': 4, 'timestamp': '2024-11-23 15:44:10', 'temperature': 40, 'humidity': 82}\n",
      "Повідомлення 12 надіслано в тему 'building_sensors_volodymyr17' успішно з даними: {'sensor_id': 4, 'timestamp': '2024-11-23 15:44:12', 'temperature': 34, 'humidity': 25}\n",
      "Повідомлення 13 надіслано в тему 'building_sensors_volodymyr17' успішно з даними: {'sensor_id': 4, 'timestamp': '2024-11-23 15:44:14', 'temperature': 38, 'humidity': 51}\n",
      "Повідомлення 14 надіслано в тему 'building_sensors_volodymyr17' успішно з даними: {'sensor_id': 4, 'timestamp': '2024-11-23 15:44:16', 'temperature': 44, 'humidity': 82}\n",
      "Повідомлення 15 надіслано в тему 'building_sensors_volodymyr17' успішно з даними: {'sensor_id': 4, 'timestamp': '2024-11-23 15:44:18', 'temperature': 27, 'humidity': 36}\n",
      "Повідомлення 16 надіслано в тему 'building_sensors_volodymyr17' успішно з даними: {'sensor_id': 4, 'timestamp': '2024-11-23 15:44:20', 'temperature': 39, 'humidity': 63}\n",
      "Повідомлення 17 надіслано в тему 'building_sensors_volodymyr17' успішно з даними: {'sensor_id': 4, 'timestamp': '2024-11-23 15:44:22', 'temperature': 45, 'humidity': 25}\n",
      "Повідомлення 18 надіслано в тему 'building_sensors_volodymyr17' успішно з даними: {'sensor_id': 4, 'timestamp': '2024-11-23 15:44:24', 'temperature': 43, 'humidity': 17}\n",
      "Повідомлення 19 надіслано в тему 'building_sensors_volodymyr17' успішно з даними: {'sensor_id': 4, 'timestamp': '2024-11-23 15:44:26', 'temperature': 30, 'humidity': 82}\n"
     ]
    }
   ],
   "source": [
    "# producer.py\n",
    "from kafka import KafkaProducer\n",
    "import json\n",
    "import random\n",
    "import time\n",
    "import uuid\n",
    "from configs import kafka_config\n",
    "\n",
    "# Налаштування Kafka\n",
    "KAFKA_CONFIG = {\n",
    "    \"bootstrap_servers\": kafka_config[\"bootstrap_servers\"],\n",
    "    \"security_protocol\": kafka_config[\"security_protocol\"],\n",
    "    \"sasl_mechanism\": kafka_config[\"sasl_mechanism\"],\n",
    "    \"sasl_plain_username\": kafka_config[\"username\"],\n",
    "    \"sasl_plain_password\": kafka_config[\"password\"],\n",
    "}\n",
    "\n",
    "your_name = \"volodymyr17\"\n",
    "TOPIC_SENSORS = f\"building_sensors_{your_name}\"\n",
    "\n",
    "\n",
    "# Виробник (Producer) для відправки даних з датчиків у топік building_sensors\n",
    "def produce_sensor_data():\n",
    "    producer = KafkaProducer(\n",
    "        **KAFKA_CONFIG, value_serializer=lambda v: json.dumps(v).encode(\"utf-8\")\n",
    "    )\n",
    "    sensor_id = random.randint(1, 5)\n",
    "    for i in range(20):\n",
    "        try:\n",
    "            data = {\n",
    "                \"sensor_id\": sensor_id,\n",
    "                \"timestamp\": time.strftime(\"%Y-%m-%d %H:%M:%S\", time.localtime()),\n",
    "                \"temperature\": random.randint(25, 45),\n",
    "                \"humidity\": random.randint(15, 85),\n",
    "            }\n",
    "            producer.send(\n",
    "                TOPIC_SENSORS, key=str(uuid.uuid4()).encode(\"utf-8\"), value=data\n",
    "            )\n",
    "            producer.flush()\n",
    "            print(\n",
    "                f\"Повідомлення {i} надіслано в тему '{TOPIC_SENSORS}' успішно з даними: {data}\"\n",
    "            )\n",
    "            time.sleep(2)\n",
    "        except Exception as e:\n",
    "            print(f\"An error occurred: {e}\")\n",
    "    producer.close()\n",
    "\n",
    "\n",
    "if __name__ == \"__main__\":\n",
    "    produce_sensor_data()"
   ]
  }
 ],
 "metadata": {
  "kernelspec": {
   "display_name": ".venv",
   "language": "python",
   "name": "python3"
  },
  "language_info": {
   "codemirror_mode": {
    "name": "ipython",
    "version": 3
   },
   "file_extension": ".py",
   "mimetype": "text/x-python",
   "name": "python",
   "nbconvert_exporter": "python",
   "pygments_lexer": "ipython3",
   "version": "3.11.9"
  }
 },
 "nbformat": 4,
 "nbformat_minor": 2
}
